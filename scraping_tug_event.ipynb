{
 "cells": [
  {
   "cell_type": "code",
   "execution_count": 15,
   "id": "212281ab",
   "metadata": {},
   "outputs": [],
   "source": []
  },
  {
   "cell_type": "code",
   "execution_count": 19,
   "id": "d60477b1",
   "metadata": {},
   "outputs": [
    {
     "name": "stdout",
     "output_type": "stream",
     "text": [
      "Requirement already satisfied: selenium in c:\\users\\98176\\miniconda3\\lib\\site-packages (4.21.0)\n",
      "Requirement already satisfied: typing_extensions>=4.9.0 in c:\\users\\98176\\miniconda3\\lib\\site-packages (from selenium) (4.12.1)\n",
      "Requirement already satisfied: trio~=0.17 in c:\\users\\98176\\miniconda3\\lib\\site-packages (from selenium) (0.25.1)\n",
      "Requirement already satisfied: urllib3[socks]<3,>=1.26 in c:\\users\\98176\\miniconda3\\lib\\site-packages (from selenium) (1.26.8)\n",
      "Requirement already satisfied: certifi>=2021.10.8 in c:\\users\\98176\\miniconda3\\lib\\site-packages (from selenium) (2021.10.8)\n",
      "Requirement already satisfied: trio-websocket~=0.9 in c:\\users\\98176\\miniconda3\\lib\\site-packages (from selenium) (0.11.1)\n",
      "Requirement already satisfied: idna in c:\\users\\98176\\miniconda3\\lib\\site-packages (from trio~=0.17->selenium) (3.3)\n",
      "Requirement already satisfied: exceptiongroup in c:\\users\\98176\\miniconda3\\lib\\site-packages (from trio~=0.17->selenium) (1.2.1)\n",
      "Requirement already satisfied: sortedcontainers in c:\\users\\98176\\miniconda3\\lib\\site-packages (from trio~=0.17->selenium) (2.4.0)\n",
      "Requirement already satisfied: attrs>=23.2.0 in c:\\users\\98176\\miniconda3\\lib\\site-packages (from trio~=0.17->selenium) (23.2.0)\n",
      "Requirement already satisfied: sniffio>=1.3.0 in c:\\users\\98176\\miniconda3\\lib\\site-packages (from trio~=0.17->selenium) (1.3.1)\n",
      "Requirement already satisfied: outcome in c:\\users\\98176\\miniconda3\\lib\\site-packages (from trio~=0.17->selenium) (1.3.0.post0)\n",
      "Requirement already satisfied: cffi>=1.14 in c:\\users\\98176\\miniconda3\\lib\\site-packages (from trio~=0.17->selenium) (1.15.0)\n",
      "Requirement already satisfied: pycparser in c:\\users\\98176\\miniconda3\\lib\\site-packages (from cffi>=1.14->trio~=0.17->selenium) (2.21)\n",
      "Requirement already satisfied: wsproto>=0.14 in c:\\users\\98176\\miniconda3\\lib\\site-packages (from trio-websocket~=0.9->selenium) (1.2.0)\n",
      "Requirement already satisfied: PySocks!=1.5.7,<2.0,>=1.5.6 in c:\\users\\98176\\miniconda3\\lib\\site-packages (from urllib3[socks]<3,>=1.26->selenium) (1.7.1)\n",
      "Requirement already satisfied: h11<1,>=0.9.0 in c:\\users\\98176\\miniconda3\\lib\\site-packages (from wsproto>=0.14->trio-websocket~=0.9->selenium) (0.14.0)\n"
     ]
    }
   ],
   "source": [
    "!pip install --upgrade selenium"
   ]
  },
  {
   "cell_type": "code",
   "execution_count": 50,
   "id": "15597bb8",
   "metadata": {},
   "outputs": [
    {
     "name": "stdout",
     "output_type": "stream",
     "text": [
      "{'title': 'Veterans Advocacy - June 4th - Augmenting Visual Analytics with Statistics', 'date': 'JUN 4, 2024 - VIRTUAL EVENT - VIRTUAL'}\n",
      "{'title': 'London Financial Services TUG @Salesforce Tower - June 2024', 'date': 'JUN 4, 2024 - IN-PERSON EVENT - LONDON, GB'}\n",
      "{'title': 'Introduction to MAE TUG! Are you ready for AI?', 'date': 'JUN 4, 2024 - HYBRID - MONTREAL'}\n",
      "{'title': 'Datafam APAC Catch-Up 2024/06', 'date': 'JUN 5, 2024 - VIRTUAL EVENT - VIRTUAL'}\n",
      "{'title': 'Sydney Tableau User Group - 5th June 2024', 'date': 'JUN 5, 2024 - IN-PERSON EVENT - SYDNEY, AU'}\n"
     ]
    }
   ],
   "source": [
    "from selenium import webdriver\n",
    "from selenium.webdriver.chrome.options import Options\n",
    "from selenium.webdriver.common.by import By\n",
    "from selenium.webdriver.support.ui import WebDriverWait\n",
    "from selenium.webdriver.support import expected_conditions as EC\n",
    "import time\n",
    "\n",
    "# Chromeオプションの設定\n",
    "chrome_options = Options()\n",
    "chrome_options.add_argument(\"--disable-dev-shm-usage\")\n",
    "chrome_options.add_argument(\"--no-sandbox\")\n",
    "chrome_options.add_argument(\"--headless\")  # GUIを表示しないモード\n",
    "\n",
    "driver = webdriver.Chrome(options=chrome_options)\n",
    "\n",
    "# Tableau User Groupsのイベントページを開く\n",
    "driver.get(\"https://usergroups.tableau.com/events/#/list\")\n",
    "\n",
    "# イベントリストが読み込まれるまで待機\n",
    "wait = WebDriverWait(driver, 60)  # タイムアウト時間を60秒に設定\n",
    "wait.until(EC.presence_of_element_located((By.CLASS_NAME, \"panel-picture-content\")))\n",
    "\n",
    "# イベントが完全に読み込まれるまで待機\n",
    "time.sleep(10)  # 追加の待機時間を設定\n",
    "\n",
    "# イベントが読み込まれるのを待つ\n",
    "events = driver.find_elements(By.CLASS_NAME, \"panel-picture-content\")\n",
    "\n",
    "# 最初の5つのイベント情報を抽出\n",
    "event_details = []\n",
    "for event in events[:5]:\n",
    "    try:\n",
    "        date_element = event.find_element(By.CLASS_NAME, \"date\")\n",
    "        date = date_element.text\n",
    "        \n",
    "        # タイトル要素の取得\n",
    "        title_element = event.find_element(By.CLASS_NAME, \"general-body--color\")\n",
    "        title = title_element.text\n",
    "        \n",
    "        event_details.append({\n",
    "            \"title\": title,\n",
    "            \"date\": date\n",
    "        })\n",
    "    except Exception as e:\n",
    "        print(f\"Error extracting event details: {e}\")\n",
    "\n",
    "# ドライバーを閉じる\n",
    "driver.quit()\n",
    "\n",
    "# イベント情報を表示\n",
    "for event in event_details:\n",
    "    print(event)\n"
   ]
  },
  {
   "cell_type": "code",
   "execution_count": null,
   "id": "4cd7acb8",
   "metadata": {},
   "outputs": [],
   "source": []
  }
 ],
 "metadata": {
  "kernelspec": {
   "display_name": "mlr",
   "language": "python",
   "name": "mlr"
  },
  "language_info": {
   "codemirror_mode": {
    "name": "ipython",
    "version": 3
   },
   "file_extension": ".py",
   "mimetype": "text/x-python",
   "name": "python",
   "nbconvert_exporter": "python",
   "pygments_lexer": "ipython3",
   "version": "3.7.13"
  }
 },
 "nbformat": 4,
 "nbformat_minor": 5
}
